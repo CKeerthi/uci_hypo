{
 "cells": [
  {
   "cell_type": "markdown",
   "metadata": {},
   "source": [
    "This a jupyter notebook for performing data analysis on the hypothyroid dataset from the UCI ML repository.\n",
    "\n",
    "link to source: https://archive.ics.uci.edu/ml/datasets/thyroid+disease\n",
    "\n",
    "The following code chunk ran in R on a Jupyter Server. For anyone who wants to reproduce it, please use a Jupyter Server that has support for the R language and packages. "
   ]
  },
  {
   "cell_type": "code",
   "execution_count": 1,
   "metadata": {
    "vscode": {
     "languageId": "r"
    }
   },
   "outputs": [],
   "source": [
    "# install.packages(\"leaps\")"
   ]
  },
  {
   "cell_type": "code",
   "execution_count": 2,
   "metadata": {
    "vscode": {
     "languageId": "r"
    }
   },
   "outputs": [
    {
     "name": "stderr",
     "output_type": "stream",
     "text": [
      "Warning message in system(\"timedatectl\", intern = TRUE):\n",
      "“running command 'timedatectl' had status 1”\n",
      "── \u001b[1mAttaching packages\u001b[22m ─────────────────────────────────────── tidyverse 1.3.1 ──\n",
      "\n",
      "\u001b[32m✔\u001b[39m \u001b[34mggplot2\u001b[39m 3.3.5     \u001b[32m✔\u001b[39m \u001b[34mpurrr  \u001b[39m 0.3.4\n",
      "\u001b[32m✔\u001b[39m \u001b[34mtibble \u001b[39m 3.1.6     \u001b[32m✔\u001b[39m \u001b[34mdplyr  \u001b[39m 1.0.7\n",
      "\u001b[32m✔\u001b[39m \u001b[34mtidyr  \u001b[39m 1.2.0     \u001b[32m✔\u001b[39m \u001b[34mstringr\u001b[39m 1.4.0\n",
      "\u001b[32m✔\u001b[39m \u001b[34mreadr  \u001b[39m 2.1.2     \u001b[32m✔\u001b[39m \u001b[34mforcats\u001b[39m 0.5.1\n",
      "\n",
      "── \u001b[1mConflicts\u001b[22m ────────────────────────────────────────── tidyverse_conflicts() ──\n",
      "\u001b[31m✖\u001b[39m \u001b[34mdplyr\u001b[39m::\u001b[32mfilter()\u001b[39m masks \u001b[34mstats\u001b[39m::filter()\n",
      "\u001b[31m✖\u001b[39m \u001b[34mdplyr\u001b[39m::\u001b[32mlag()\u001b[39m    masks \u001b[34mstats\u001b[39m::lag()\n",
      "\n",
      "\n",
      "Attaching package: ‘MASS’\n",
      "\n",
      "\n",
      "The following object is masked from ‘package:dplyr’:\n",
      "\n",
      "    select\n",
      "\n",
      "\n",
      "Loading required package: lattice\n",
      "\n",
      "\n",
      "Attaching package: ‘caret’\n",
      "\n",
      "\n",
      "The following object is masked from ‘package:purrr’:\n",
      "\n",
      "    lift\n",
      "\n",
      "\n"
     ]
    }
   ],
   "source": [
    "# required packages\n",
    "library(tidyverse)\n",
    "library(rpart)\n",
    "library(MASS)\n",
    "library(leaps)\n",
    "library(caret)\n",
    "library(rpart)\n",
    "library(e1071)"
   ]
  },
  {
   "cell_type": "code",
   "execution_count": 4,
   "metadata": {
    "vscode": {
     "languageId": "r"
    }
   },
   "outputs": [
    {
     "data": {
      "text/html": [
       "<table class=\"dataframe\">\n",
       "<caption>A data.frame: 6 × 26</caption>\n",
       "<thead>\n",
       "\t<tr><th></th><th scope=col>class</th><th scope=col>age</th><th scope=col>sex</th><th scope=col>on_thyroxine</th><th scope=col>query_on_thyroxine</th><th scope=col>on_antithyroid_medication</th><th scope=col>thyroid_surgery</th><th scope=col>query_hypothyroid</th><th scope=col>query_hyperthyroid</th><th scope=col>pregnant</th><th scope=col>⋯</th><th scope=col>T3_measured</th><th scope=col>T3</th><th scope=col>TT4_measured</th><th scope=col>TT4</th><th scope=col>T4U_measured</th><th scope=col>T4U</th><th scope=col>FTI_measured</th><th scope=col>FTI</th><th scope=col>TBG_measured</th><th scope=col>TBG</th></tr>\n",
       "\t<tr><th></th><th scope=col>&lt;chr&gt;</th><th scope=col>&lt;chr&gt;</th><th scope=col>&lt;chr&gt;</th><th scope=col>&lt;chr&gt;</th><th scope=col>&lt;chr&gt;</th><th scope=col>&lt;chr&gt;</th><th scope=col>&lt;chr&gt;</th><th scope=col>&lt;chr&gt;</th><th scope=col>&lt;chr&gt;</th><th scope=col>&lt;chr&gt;</th><th scope=col>⋯</th><th scope=col>&lt;chr&gt;</th><th scope=col>&lt;chr&gt;</th><th scope=col>&lt;chr&gt;</th><th scope=col>&lt;chr&gt;</th><th scope=col>&lt;chr&gt;</th><th scope=col>&lt;chr&gt;</th><th scope=col>&lt;chr&gt;</th><th scope=col>&lt;chr&gt;</th><th scope=col>&lt;chr&gt;</th><th scope=col>&lt;chr&gt;</th></tr>\n",
       "</thead>\n",
       "<tbody>\n",
       "\t<tr><th scope=row>1</th><td>hypothyroid</td><td>72</td><td>M</td><td>f</td><td>f</td><td>f</td><td>f</td><td>f</td><td>f</td><td>f</td><td>⋯</td><td>y</td><td>0.60</td><td>y</td><td>15</td><td>y</td><td>1.48</td><td>y</td><td>10</td><td>n</td><td>?</td></tr>\n",
       "\t<tr><th scope=row>2</th><td>hypothyroid</td><td>15</td><td>F</td><td>t</td><td>f</td><td>f</td><td>f</td><td>f</td><td>f</td><td>f</td><td>⋯</td><td>y</td><td>1.70</td><td>y</td><td>19</td><td>y</td><td>1.13</td><td>y</td><td>17</td><td>n</td><td>?</td></tr>\n",
       "\t<tr><th scope=row>3</th><td>hypothyroid</td><td>24</td><td>M</td><td>f</td><td>f</td><td>f</td><td>f</td><td>f</td><td>f</td><td>f</td><td>⋯</td><td>y</td><td>0.20</td><td>y</td><td>4 </td><td>y</td><td>1   </td><td>y</td><td>0 </td><td>n</td><td>?</td></tr>\n",
       "\t<tr><th scope=row>4</th><td>hypothyroid</td><td>24</td><td>F</td><td>f</td><td>f</td><td>f</td><td>f</td><td>f</td><td>f</td><td>f</td><td>⋯</td><td>y</td><td>0.40</td><td>y</td><td>6 </td><td>y</td><td>1.04</td><td>y</td><td>6 </td><td>n</td><td>?</td></tr>\n",
       "\t<tr><th scope=row>5</th><td>hypothyroid</td><td>77</td><td>M</td><td>f</td><td>f</td><td>f</td><td>f</td><td>f</td><td>f</td><td>f</td><td>⋯</td><td>y</td><td>1.20</td><td>y</td><td>57</td><td>y</td><td>1.28</td><td>y</td><td>44</td><td>n</td><td>?</td></tr>\n",
       "\t<tr><th scope=row>6</th><td>hypothyroid</td><td>85</td><td>F</td><td>f</td><td>f</td><td>f</td><td>f</td><td>t</td><td>f</td><td>f</td><td>⋯</td><td>y</td><td>1.10</td><td>y</td><td>27</td><td>y</td><td>1.19</td><td>y</td><td>23</td><td>n</td><td>?</td></tr>\n",
       "</tbody>\n",
       "</table>\n"
      ],
      "text/latex": [
       "A data.frame: 6 × 26\n",
       "\\begin{tabular}{r|lllllllllllllllllllll}\n",
       "  & class & age & sex & on\\_thyroxine & query\\_on\\_thyroxine & on\\_antithyroid\\_medication & thyroid\\_surgery & query\\_hypothyroid & query\\_hyperthyroid & pregnant & ⋯ & T3\\_measured & T3 & TT4\\_measured & TT4 & T4U\\_measured & T4U & FTI\\_measured & FTI & TBG\\_measured & TBG\\\\\n",
       "  & <chr> & <chr> & <chr> & <chr> & <chr> & <chr> & <chr> & <chr> & <chr> & <chr> & ⋯ & <chr> & <chr> & <chr> & <chr> & <chr> & <chr> & <chr> & <chr> & <chr> & <chr>\\\\\n",
       "\\hline\n",
       "\t1 & hypothyroid & 72 & M & f & f & f & f & f & f & f & ⋯ & y & 0.60 & y & 15 & y & 1.48 & y & 10 & n & ?\\\\\n",
       "\t2 & hypothyroid & 15 & F & t & f & f & f & f & f & f & ⋯ & y & 1.70 & y & 19 & y & 1.13 & y & 17 & n & ?\\\\\n",
       "\t3 & hypothyroid & 24 & M & f & f & f & f & f & f & f & ⋯ & y & 0.20 & y & 4  & y & 1    & y & 0  & n & ?\\\\\n",
       "\t4 & hypothyroid & 24 & F & f & f & f & f & f & f & f & ⋯ & y & 0.40 & y & 6  & y & 1.04 & y & 6  & n & ?\\\\\n",
       "\t5 & hypothyroid & 77 & M & f & f & f & f & f & f & f & ⋯ & y & 1.20 & y & 57 & y & 1.28 & y & 44 & n & ?\\\\\n",
       "\t6 & hypothyroid & 85 & F & f & f & f & f & t & f & f & ⋯ & y & 1.10 & y & 27 & y & 1.19 & y & 23 & n & ?\\\\\n",
       "\\end{tabular}\n"
      ],
      "text/markdown": [
       "\n",
       "A data.frame: 6 × 26\n",
       "\n",
       "| <!--/--> | class &lt;chr&gt; | age &lt;chr&gt; | sex &lt;chr&gt; | on_thyroxine &lt;chr&gt; | query_on_thyroxine &lt;chr&gt; | on_antithyroid_medication &lt;chr&gt; | thyroid_surgery &lt;chr&gt; | query_hypothyroid &lt;chr&gt; | query_hyperthyroid &lt;chr&gt; | pregnant &lt;chr&gt; | ⋯ ⋯ | T3_measured &lt;chr&gt; | T3 &lt;chr&gt; | TT4_measured &lt;chr&gt; | TT4 &lt;chr&gt; | T4U_measured &lt;chr&gt; | T4U &lt;chr&gt; | FTI_measured &lt;chr&gt; | FTI &lt;chr&gt; | TBG_measured &lt;chr&gt; | TBG &lt;chr&gt; |\n",
       "|---|---|---|---|---|---|---|---|---|---|---|---|---|---|---|---|---|---|---|---|---|---|\n",
       "| 1 | hypothyroid | 72 | M | f | f | f | f | f | f | f | ⋯ | y | 0.60 | y | 15 | y | 1.48 | y | 10 | n | ? |\n",
       "| 2 | hypothyroid | 15 | F | t | f | f | f | f | f | f | ⋯ | y | 1.70 | y | 19 | y | 1.13 | y | 17 | n | ? |\n",
       "| 3 | hypothyroid | 24 | M | f | f | f | f | f | f | f | ⋯ | y | 0.20 | y | 4  | y | 1    | y | 0  | n | ? |\n",
       "| 4 | hypothyroid | 24 | F | f | f | f | f | f | f | f | ⋯ | y | 0.40 | y | 6  | y | 1.04 | y | 6  | n | ? |\n",
       "| 5 | hypothyroid | 77 | M | f | f | f | f | f | f | f | ⋯ | y | 1.20 | y | 57 | y | 1.28 | y | 44 | n | ? |\n",
       "| 6 | hypothyroid | 85 | F | f | f | f | f | t | f | f | ⋯ | y | 1.10 | y | 27 | y | 1.19 | y | 23 | n | ? |\n",
       "\n"
      ],
      "text/plain": [
       "  class       age sex on_thyroxine query_on_thyroxine on_antithyroid_medication\n",
       "1 hypothyroid 72  M   f            f                  f                        \n",
       "2 hypothyroid 15  F   t            f                  f                        \n",
       "3 hypothyroid 24  M   f            f                  f                        \n",
       "4 hypothyroid 24  F   f            f                  f                        \n",
       "5 hypothyroid 77  M   f            f                  f                        \n",
       "6 hypothyroid 85  F   f            f                  f                        \n",
       "  thyroid_surgery query_hypothyroid query_hyperthyroid pregnant ⋯ T3_measured\n",
       "1 f               f                 f                  f        ⋯ y          \n",
       "2 f               f                 f                  f        ⋯ y          \n",
       "3 f               f                 f                  f        ⋯ y          \n",
       "4 f               f                 f                  f        ⋯ y          \n",
       "5 f               f                 f                  f        ⋯ y          \n",
       "6 f               t                 f                  f        ⋯ y          \n",
       "  T3   TT4_measured TT4 T4U_measured T4U  FTI_measured FTI TBG_measured TBG\n",
       "1 0.60 y            15  y            1.48 y            10  n            ?  \n",
       "2 1.70 y            19  y            1.13 y            17  n            ?  \n",
       "3 0.20 y            4   y            1    y            0   n            ?  \n",
       "4 0.40 y            6   y            1.04 y            6   n            ?  \n",
       "5 1.20 y            57  y            1.28 y            44  n            ?  \n",
       "6 1.10 y            27  y            1.19 y            23  n            ?  "
      ]
     },
     "metadata": {},
     "output_type": "display_data"
    }
   ],
   "source": [
    "# load data\n",
    "data<-read.csv(\"hypothyroid_data.csv\",header=FALSE)\n",
    "colnames(data)<-c(\"class\",\"age\",\"sex\",\"on_thyroxine\",\"query_on_thyroxine\",\"on_antithyroid_medication\",\"thyroid_surgery\",\"query_hypothyroid\",\"query_hyperthyroid\",\"pregnant\",\"sick\",\"tumor\",\"lithium\",\"goitre\",\"TSH_measured\",\"TSH\",\"T3_measured\",\"T3\",\"TT4_measured\",\"TT4\",\"T4U_measured\",\"T4U\",\"FTI_measured\",\"FTI\",\"TBG_measured\",\"TBG\")\n",
    "head(data)"
   ]
  },
  {
   "cell_type": "code",
   "execution_count": null,
   "metadata": {
    "vscode": {
     "languageId": "r"
    }
   },
   "outputs": [],
   "source": [
    "count(data,\"?\")\n",
    "table(data$TBG)"
   ]
  },
  {
   "cell_type": "code",
   "execution_count": null,
   "metadata": {
    "vscode": {
     "languageId": "r"
    }
   },
   "outputs": [],
   "source": [
    "data_drop<-subset(data, select=-c(TBG,TBG_measured))\n",
    "head(data_drop)"
   ]
  },
  {
   "cell_type": "code",
   "execution_count": null,
   "metadata": {
    "vscode": {
     "languageId": "r"
    }
   },
   "outputs": [],
   "source": [
    "colSums(data==\"?\")"
   ]
  },
  {
   "cell_type": "markdown",
   "metadata": {},
   "source": [
    "Creation of training and testing data"
   ]
  },
  {
   "cell_type": "code",
   "execution_count": null,
   "metadata": {
    "vscode": {
     "languageId": "r"
    }
   },
   "outputs": [],
   "source": [
    "set.seed(4)\n",
    "train <- data%>%sample_frac(0.6)\n",
    "train_index <- as.numeric(rownames(train))\n",
    "test <- data[-train_index, ]\n",
    "\n",
    "model<-rpart(class~on_thyroxine+query_on_thyroxine+on_antithyroid_medication+thyroid_surgery+query_hypothyroid+query_hyperthyroid+pregnant+sick+tumor+lithium+goitre,data=train)\n",
    "\n",
    "prediction<-predict(model,newdata=test,type=\"class\")\n",
    "table(prediction,test$class)"
   ]
  },
  {
   "cell_type": "code",
   "execution_count": null,
   "metadata": {
    "scrolled": true,
    "vscode": {
     "languageId": "r"
    }
   },
   "outputs": [],
   "source": [
    "table(data$class)"
   ]
  },
  {
   "cell_type": "markdown",
   "metadata": {},
   "source": [
    "Identify missing values, if any"
   ]
  },
  {
   "cell_type": "code",
   "execution_count": null,
   "metadata": {
    "scrolled": true,
    "vscode": {
     "languageId": "r"
    }
   },
   "outputs": [],
   "source": [
    "pos<-data%>%filter(class==\"hypothyroid\")\n",
    "head(pos)\n",
    "count(pos,\"?\")\n",
    "colSums(pos==\"?\")\n"
   ]
  },
  {
   "cell_type": "code",
   "execution_count": null,
   "metadata": {
    "vscode": {
     "languageId": "r"
    }
   },
   "outputs": [],
   "source": [
    "agedata<-data%>%select(age,class)\n",
    "\n",
    "agedata[agedata==\"?\"]<-NA\n",
    "agedata<-na.omit(agedata)\n",
    "agedata$age<-as.integer(agedata$age)\n",
    "agedata$class<-as.integer(agedata$class)\n",
    "\n",
    "agedata[agedata==2]<-0\n",
    "agedata$class<-as.factor(agedata$class)\n",
    "\n",
    "ggplot(data=agedata)+geom_boxplot(aes(x=class,y=age))\n",
    "ggplot(data=agedata)+geom_histogram(aes(x=age))"
   ]
  },
  {
   "cell_type": "code",
   "execution_count": 2,
   "metadata": {
    "vscode": {
     "languageId": "r"
    }
   },
   "outputs": [
    {
     "data": {
      "text/html": [
       "<table>\n",
       "<caption>A data.frame: 6 × 24</caption>\n",
       "<thead>\n",
       "\t<tr><th></th><th scope=col>Class</th><th scope=col>Age</th><th scope=col>Sex</th><th scope=col>On_Thyroxine</th><th scope=col>Query_on_Thyroxine</th><th scope=col>On_Antithyroid_Medication</th><th scope=col>Thyroid_Surgery</th><th scope=col>Query_Hypothyroid</th><th scope=col>Query_Hyperthyroid</th><th scope=col>Pregnant</th><th scope=col>⋯</th><th scope=col>TSH_measured</th><th scope=col>TSH</th><th scope=col>T3_measured</th><th scope=col>T3</th><th scope=col>TT4_measured</th><th scope=col>TT4</th><th scope=col>T4U_measured</th><th scope=col>T4U</th><th scope=col>FTI_measured</th><th scope=col>FTI</th></tr>\n",
       "\t<tr><th></th><th scope=col>&lt;fct&gt;</th><th scope=col>&lt;int&gt;</th><th scope=col>&lt;int&gt;</th><th scope=col>&lt;int&gt;</th><th scope=col>&lt;int&gt;</th><th scope=col>&lt;int&gt;</th><th scope=col>&lt;int&gt;</th><th scope=col>&lt;int&gt;</th><th scope=col>&lt;int&gt;</th><th scope=col>&lt;int&gt;</th><th scope=col>⋯</th><th scope=col>&lt;int&gt;</th><th scope=col>&lt;dbl&gt;</th><th scope=col>&lt;int&gt;</th><th scope=col>&lt;dbl&gt;</th><th scope=col>&lt;int&gt;</th><th scope=col>&lt;dbl&gt;</th><th scope=col>&lt;int&gt;</th><th scope=col>&lt;dbl&gt;</th><th scope=col>&lt;int&gt;</th><th scope=col>&lt;dbl&gt;</th></tr>\n",
       "</thead>\n",
       "<tbody>\n",
       "\t<tr><th scope=row>1</th><td>hypothyroid</td><td>72</td><td>1</td><td>0</td><td>0</td><td>0</td><td>0</td><td>0</td><td>0</td><td>0</td><td>⋯</td><td>1</td><td> 30.0</td><td>1</td><td>0.6</td><td>1</td><td>15</td><td>1</td><td>1.48</td><td>1</td><td>10</td></tr>\n",
       "\t<tr><th scope=row>2</th><td>hypothyroid</td><td>15</td><td>0</td><td>1</td><td>0</td><td>0</td><td>0</td><td>0</td><td>0</td><td>0</td><td>⋯</td><td>1</td><td>145.0</td><td>1</td><td>1.7</td><td>1</td><td>19</td><td>1</td><td>1.13</td><td>1</td><td>17</td></tr>\n",
       "\t<tr><th scope=row>3</th><td>hypothyroid</td><td>24</td><td>1</td><td>0</td><td>0</td><td>0</td><td>0</td><td>0</td><td>0</td><td>0</td><td>⋯</td><td>1</td><td>  0.0</td><td>1</td><td>0.2</td><td>1</td><td> 4</td><td>1</td><td>1.00</td><td>1</td><td> 0</td></tr>\n",
       "\t<tr><th scope=row>4</th><td>hypothyroid</td><td>24</td><td>0</td><td>0</td><td>0</td><td>0</td><td>0</td><td>0</td><td>0</td><td>0</td><td>⋯</td><td>1</td><td>430.0</td><td>1</td><td>0.4</td><td>1</td><td> 6</td><td>1</td><td>1.04</td><td>1</td><td> 6</td></tr>\n",
       "\t<tr><th scope=row>5</th><td>hypothyroid</td><td>77</td><td>1</td><td>0</td><td>0</td><td>0</td><td>0</td><td>0</td><td>0</td><td>0</td><td>⋯</td><td>1</td><td>  7.3</td><td>1</td><td>1.2</td><td>1</td><td>57</td><td>1</td><td>1.28</td><td>1</td><td>44</td></tr>\n",
       "\t<tr><th scope=row>6</th><td>hypothyroid</td><td>85</td><td>0</td><td>0</td><td>0</td><td>0</td><td>0</td><td>1</td><td>0</td><td>0</td><td>⋯</td><td>1</td><td>138.0</td><td>1</td><td>1.1</td><td>1</td><td>27</td><td>1</td><td>1.19</td><td>1</td><td>23</td></tr>\n",
       "</tbody>\n",
       "</table>\n"
      ],
      "text/latex": [
       "A data.frame: 6 × 24\n",
       "\\begin{tabular}{r|lllllllllllllllllllll}\n",
       "  & Class & Age & Sex & On\\_Thyroxine & Query\\_on\\_Thyroxine & On\\_Antithyroid\\_Medication & Thyroid\\_Surgery & Query\\_Hypothyroid & Query\\_Hyperthyroid & Pregnant & ⋯ & TSH\\_measured & TSH & T3\\_measured & T3 & TT4\\_measured & TT4 & T4U\\_measured & T4U & FTI\\_measured & FTI\\\\\n",
       "  & <fct> & <int> & <int> & <int> & <int> & <int> & <int> & <int> & <int> & <int> & ⋯ & <int> & <dbl> & <int> & <dbl> & <int> & <dbl> & <int> & <dbl> & <int> & <dbl>\\\\\n",
       "\\hline\n",
       "\t1 & hypothyroid & 72 & 1 & 0 & 0 & 0 & 0 & 0 & 0 & 0 & ⋯ & 1 &  30.0 & 1 & 0.6 & 1 & 15 & 1 & 1.48 & 1 & 10\\\\\n",
       "\t2 & hypothyroid & 15 & 0 & 1 & 0 & 0 & 0 & 0 & 0 & 0 & ⋯ & 1 & 145.0 & 1 & 1.7 & 1 & 19 & 1 & 1.13 & 1 & 17\\\\\n",
       "\t3 & hypothyroid & 24 & 1 & 0 & 0 & 0 & 0 & 0 & 0 & 0 & ⋯ & 1 &   0.0 & 1 & 0.2 & 1 &  4 & 1 & 1.00 & 1 &  0\\\\\n",
       "\t4 & hypothyroid & 24 & 0 & 0 & 0 & 0 & 0 & 0 & 0 & 0 & ⋯ & 1 & 430.0 & 1 & 0.4 & 1 &  6 & 1 & 1.04 & 1 &  6\\\\\n",
       "\t5 & hypothyroid & 77 & 1 & 0 & 0 & 0 & 0 & 0 & 0 & 0 & ⋯ & 1 &   7.3 & 1 & 1.2 & 1 & 57 & 1 & 1.28 & 1 & 44\\\\\n",
       "\t6 & hypothyroid & 85 & 0 & 0 & 0 & 0 & 0 & 1 & 0 & 0 & ⋯ & 1 & 138.0 & 1 & 1.1 & 1 & 27 & 1 & 1.19 & 1 & 23\\\\\n",
       "\\end{tabular}\n"
      ],
      "text/markdown": [
       "\n",
       "A data.frame: 6 × 24\n",
       "\n",
       "| <!--/--> | Class &lt;fct&gt; | Age &lt;int&gt; | Sex &lt;int&gt; | On_Thyroxine &lt;int&gt; | Query_on_Thyroxine &lt;int&gt; | On_Antithyroid_Medication &lt;int&gt; | Thyroid_Surgery &lt;int&gt; | Query_Hypothyroid &lt;int&gt; | Query_Hyperthyroid &lt;int&gt; | Pregnant &lt;int&gt; | ⋯ ⋯ | TSH_measured &lt;int&gt; | TSH &lt;dbl&gt; | T3_measured &lt;int&gt; | T3 &lt;dbl&gt; | TT4_measured &lt;int&gt; | TT4 &lt;dbl&gt; | T4U_measured &lt;int&gt; | T4U &lt;dbl&gt; | FTI_measured &lt;int&gt; | FTI &lt;dbl&gt; |\n",
       "|---|---|---|---|---|---|---|---|---|---|---|---|---|---|---|---|---|---|---|---|---|---|\n",
       "| 1 | hypothyroid | 72 | 1 | 0 | 0 | 0 | 0 | 0 | 0 | 0 | ⋯ | 1 |  30.0 | 1 | 0.6 | 1 | 15 | 1 | 1.48 | 1 | 10 |\n",
       "| 2 | hypothyroid | 15 | 0 | 1 | 0 | 0 | 0 | 0 | 0 | 0 | ⋯ | 1 | 145.0 | 1 | 1.7 | 1 | 19 | 1 | 1.13 | 1 | 17 |\n",
       "| 3 | hypothyroid | 24 | 1 | 0 | 0 | 0 | 0 | 0 | 0 | 0 | ⋯ | 1 |   0.0 | 1 | 0.2 | 1 |  4 | 1 | 1.00 | 1 |  0 |\n",
       "| 4 | hypothyroid | 24 | 0 | 0 | 0 | 0 | 0 | 0 | 0 | 0 | ⋯ | 1 | 430.0 | 1 | 0.4 | 1 |  6 | 1 | 1.04 | 1 |  6 |\n",
       "| 5 | hypothyroid | 77 | 1 | 0 | 0 | 0 | 0 | 0 | 0 | 0 | ⋯ | 1 |   7.3 | 1 | 1.2 | 1 | 57 | 1 | 1.28 | 1 | 44 |\n",
       "| 6 | hypothyroid | 85 | 0 | 0 | 0 | 0 | 0 | 1 | 0 | 0 | ⋯ | 1 | 138.0 | 1 | 1.1 | 1 | 27 | 1 | 1.19 | 1 | 23 |\n",
       "\n"
      ],
      "text/plain": [
       "  Class       Age Sex On_Thyroxine Query_on_Thyroxine On_Antithyroid_Medication\n",
       "1 hypothyroid 72  1   0            0                  0                        \n",
       "2 hypothyroid 15  0   1            0                  0                        \n",
       "3 hypothyroid 24  1   0            0                  0                        \n",
       "4 hypothyroid 24  0   0            0                  0                        \n",
       "5 hypothyroid 77  1   0            0                  0                        \n",
       "6 hypothyroid 85  0   0            0                  0                        \n",
       "  Thyroid_Surgery Query_Hypothyroid Query_Hyperthyroid Pregnant ⋯ TSH_measured\n",
       "1 0               0                 0                  0        ⋯ 1           \n",
       "2 0               0                 0                  0        ⋯ 1           \n",
       "3 0               0                 0                  0        ⋯ 1           \n",
       "4 0               0                 0                  0        ⋯ 1           \n",
       "5 0               0                 0                  0        ⋯ 1           \n",
       "6 0               1                 0                  0        ⋯ 1           \n",
       "  TSH   T3_measured T3  TT4_measured TT4 T4U_measured T4U  FTI_measured FTI\n",
       "1  30.0 1           0.6 1            15  1            1.48 1            10 \n",
       "2 145.0 1           1.7 1            19  1            1.13 1            17 \n",
       "3   0.0 1           0.2 1             4  1            1.00 1             0 \n",
       "4 430.0 1           0.4 1             6  1            1.04 1             6 \n",
       "5   7.3 1           1.2 1            57  1            1.28 1            44 \n",
       "6 138.0 1           1.1 1            27  1            1.19 1            23 "
      ]
     },
     "metadata": {},
     "output_type": "display_data"
    }
   ],
   "source": [
    "#fresh start here\n",
    "data<-read.csv(\"hypo2.csv\")\n",
    "#colnames(data)<-c(\"class\",\"age\",\"sex\",\"on_thyroxine\",\"query_on_thyroxine\",\"on_antithyroid_medication\",\"thyroid_surgery\",\"query_hypothyroid\",\"query_hyperthyroid\",\"pregnant\",\"sick\",\"tumor\",\"lithium\",\"goitre\",\"TSH_measured\",\"TSH\",\"T3_measured\",\"T3\",\"TT4_measured\",\"TT4\",\"T4U_measured\",\"T4U\",\"FTI_measured\",\"FTI\",\"TBG_measured\",\"TBG\")\n",
    "data<-data[,2:25]\n",
    "head(data)"
   ]
  },
  {
   "cell_type": "code",
   "execution_count": 3,
   "metadata": {
    "vscode": {
     "languageId": "r"
    }
   },
   "outputs": [
    {
     "data": {
      "text/html": [
       "<style>\n",
       ".dl-inline {width: auto; margin:0; padding: 0}\n",
       ".dl-inline>dt, .dl-inline>dd {float: none; width: auto; display: inline-block}\n",
       ".dl-inline>dt::after {content: \":\\0020\"; padding-right: .5ex}\n",
       ".dl-inline>dt:not(:first-of-type) {padding-left: .5ex}\n",
       "</style><dl class=dl-inline><dt>Class</dt><dd>0</dd><dt>Age</dt><dd>0</dd><dt>Sex</dt><dd>0</dd><dt>On_Thyroxine</dt><dd>0</dd><dt>Query_on_Thyroxine</dt><dd>0</dd><dt>On_Antithyroid_Medication</dt><dd>0</dd><dt>Thyroid_Surgery</dt><dd>0</dd><dt>Query_Hypothyroid</dt><dd>0</dd><dt>Query_Hyperthyroid</dt><dd>0</dd><dt>Pregnant</dt><dd>0</dd><dt>Sick</dt><dd>0</dd><dt>Tumour</dt><dd>0</dd><dt>Lithium</dt><dd>0</dd><dt>Goitre</dt><dd>0</dd><dt>TSH_measured</dt><dd>0</dd><dt>TSH</dt><dd>0</dd><dt>T3_measured</dt><dd>0</dd><dt>T3</dt><dd>0</dd><dt>TT4_measured</dt><dd>0</dd><dt>TT4</dt><dd>0</dd><dt>T4U_measured</dt><dd>0</dd><dt>T4U</dt><dd>0</dd><dt>FTI_measured</dt><dd>0</dd><dt>FTI</dt><dd>0</dd></dl>\n"
      ],
      "text/latex": [
       "\\begin{description*}\n",
       "\\item[Class] 0\n",
       "\\item[Age] 0\n",
       "\\item[Sex] 0\n",
       "\\item[On\\textbackslash{}\\_Thyroxine] 0\n",
       "\\item[Query\\textbackslash{}\\_on\\textbackslash{}\\_Thyroxine] 0\n",
       "\\item[On\\textbackslash{}\\_Antithyroid\\textbackslash{}\\_Medication] 0\n",
       "\\item[Thyroid\\textbackslash{}\\_Surgery] 0\n",
       "\\item[Query\\textbackslash{}\\_Hypothyroid] 0\n",
       "\\item[Query\\textbackslash{}\\_Hyperthyroid] 0\n",
       "\\item[Pregnant] 0\n",
       "\\item[Sick] 0\n",
       "\\item[Tumour] 0\n",
       "\\item[Lithium] 0\n",
       "\\item[Goitre] 0\n",
       "\\item[TSH\\textbackslash{}\\_measured] 0\n",
       "\\item[TSH] 0\n",
       "\\item[T3\\textbackslash{}\\_measured] 0\n",
       "\\item[T3] 0\n",
       "\\item[TT4\\textbackslash{}\\_measured] 0\n",
       "\\item[TT4] 0\n",
       "\\item[T4U\\textbackslash{}\\_measured] 0\n",
       "\\item[T4U] 0\n",
       "\\item[FTI\\textbackslash{}\\_measured] 0\n",
       "\\item[FTI] 0\n",
       "\\end{description*}\n"
      ],
      "text/markdown": [
       "Class\n",
       ":   0Age\n",
       ":   0Sex\n",
       ":   0On_Thyroxine\n",
       ":   0Query_on_Thyroxine\n",
       ":   0On_Antithyroid_Medication\n",
       ":   0Thyroid_Surgery\n",
       ":   0Query_Hypothyroid\n",
       ":   0Query_Hyperthyroid\n",
       ":   0Pregnant\n",
       ":   0Sick\n",
       ":   0Tumour\n",
       ":   0Lithium\n",
       ":   0Goitre\n",
       ":   0TSH_measured\n",
       ":   0TSH\n",
       ":   0T3_measured\n",
       ":   0T3\n",
       ":   0TT4_measured\n",
       ":   0TT4\n",
       ":   0T4U_measured\n",
       ":   0T4U\n",
       ":   0FTI_measured\n",
       ":   0FTI\n",
       ":   0\n",
       "\n"
      ],
      "text/plain": [
       "                    Class                       Age                       Sex \n",
       "                        0                         0                         0 \n",
       "             On_Thyroxine        Query_on_Thyroxine On_Antithyroid_Medication \n",
       "                        0                         0                         0 \n",
       "          Thyroid_Surgery         Query_Hypothyroid        Query_Hyperthyroid \n",
       "                        0                         0                         0 \n",
       "                 Pregnant                      Sick                    Tumour \n",
       "                        0                         0                         0 \n",
       "                  Lithium                    Goitre              TSH_measured \n",
       "                        0                         0                         0 \n",
       "                      TSH               T3_measured                        T3 \n",
       "                        0                         0                         0 \n",
       "             TT4_measured                       TT4              T4U_measured \n",
       "                        0                         0                         0 \n",
       "                      T4U              FTI_measured                       FTI \n",
       "                        0                         0                         0 "
      ]
     },
     "metadata": {},
     "output_type": "display_data"
    }
   ],
   "source": [
    "colSums(data==\"?\")"
   ]
  },
  {
   "cell_type": "code",
   "execution_count": 4,
   "metadata": {
    "scrolled": true,
    "vscode": {
     "languageId": "r"
    }
   },
   "outputs": [
    {
     "data": {
      "text/html": [
       "<table>\n",
       "<caption>A data.frame: 6 × 24</caption>\n",
       "<thead>\n",
       "\t<tr><th></th><th scope=col>Class</th><th scope=col>Age</th><th scope=col>Sex</th><th scope=col>On_Thyroxine</th><th scope=col>Query_on_Thyroxine</th><th scope=col>On_Antithyroid_Medication</th><th scope=col>Thyroid_Surgery</th><th scope=col>Query_Hypothyroid</th><th scope=col>Query_Hyperthyroid</th><th scope=col>Pregnant</th><th scope=col>⋯</th><th scope=col>TSH_measured</th><th scope=col>TSH</th><th scope=col>T3_measured</th><th scope=col>T3</th><th scope=col>TT4_measured</th><th scope=col>TT4</th><th scope=col>T4U_measured</th><th scope=col>T4U</th><th scope=col>FTI_measured</th><th scope=col>FTI</th></tr>\n",
       "\t<tr><th></th><th scope=col>&lt;fct&gt;</th><th scope=col>&lt;int&gt;</th><th scope=col>&lt;int&gt;</th><th scope=col>&lt;int&gt;</th><th scope=col>&lt;int&gt;</th><th scope=col>&lt;int&gt;</th><th scope=col>&lt;int&gt;</th><th scope=col>&lt;int&gt;</th><th scope=col>&lt;int&gt;</th><th scope=col>&lt;int&gt;</th><th scope=col>⋯</th><th scope=col>&lt;int&gt;</th><th scope=col>&lt;dbl&gt;</th><th scope=col>&lt;int&gt;</th><th scope=col>&lt;dbl&gt;</th><th scope=col>&lt;int&gt;</th><th scope=col>&lt;dbl&gt;</th><th scope=col>&lt;int&gt;</th><th scope=col>&lt;dbl&gt;</th><th scope=col>&lt;int&gt;</th><th scope=col>&lt;dbl&gt;</th></tr>\n",
       "</thead>\n",
       "<tbody>\n",
       "\t<tr><th scope=row>1</th><td>1</td><td>72</td><td>1</td><td>0</td><td>0</td><td>0</td><td>0</td><td>0</td><td>0</td><td>0</td><td>⋯</td><td>1</td><td> 30.0</td><td>1</td><td>0.6</td><td>1</td><td>15</td><td>1</td><td>1.48</td><td>1</td><td>10</td></tr>\n",
       "\t<tr><th scope=row>2</th><td>1</td><td>15</td><td>0</td><td>1</td><td>0</td><td>0</td><td>0</td><td>0</td><td>0</td><td>0</td><td>⋯</td><td>1</td><td>145.0</td><td>1</td><td>1.7</td><td>1</td><td>19</td><td>1</td><td>1.13</td><td>1</td><td>17</td></tr>\n",
       "\t<tr><th scope=row>3</th><td>1</td><td>24</td><td>1</td><td>0</td><td>0</td><td>0</td><td>0</td><td>0</td><td>0</td><td>0</td><td>⋯</td><td>1</td><td>  0.0</td><td>1</td><td>0.2</td><td>1</td><td> 4</td><td>1</td><td>1.00</td><td>1</td><td> 0</td></tr>\n",
       "\t<tr><th scope=row>4</th><td>1</td><td>24</td><td>0</td><td>0</td><td>0</td><td>0</td><td>0</td><td>0</td><td>0</td><td>0</td><td>⋯</td><td>1</td><td>430.0</td><td>1</td><td>0.4</td><td>1</td><td> 6</td><td>1</td><td>1.04</td><td>1</td><td> 6</td></tr>\n",
       "\t<tr><th scope=row>5</th><td>1</td><td>77</td><td>1</td><td>0</td><td>0</td><td>0</td><td>0</td><td>0</td><td>0</td><td>0</td><td>⋯</td><td>1</td><td>  7.3</td><td>1</td><td>1.2</td><td>1</td><td>57</td><td>1</td><td>1.28</td><td>1</td><td>44</td></tr>\n",
       "\t<tr><th scope=row>6</th><td>1</td><td>85</td><td>0</td><td>0</td><td>0</td><td>0</td><td>0</td><td>1</td><td>0</td><td>0</td><td>⋯</td><td>1</td><td>138.0</td><td>1</td><td>1.1</td><td>1</td><td>27</td><td>1</td><td>1.19</td><td>1</td><td>23</td></tr>\n",
       "</tbody>\n",
       "</table>\n"
      ],
      "text/latex": [
       "A data.frame: 6 × 24\n",
       "\\begin{tabular}{r|lllllllllllllllllllll}\n",
       "  & Class & Age & Sex & On\\_Thyroxine & Query\\_on\\_Thyroxine & On\\_Antithyroid\\_Medication & Thyroid\\_Surgery & Query\\_Hypothyroid & Query\\_Hyperthyroid & Pregnant & ⋯ & TSH\\_measured & TSH & T3\\_measured & T3 & TT4\\_measured & TT4 & T4U\\_measured & T4U & FTI\\_measured & FTI\\\\\n",
       "  & <fct> & <int> & <int> & <int> & <int> & <int> & <int> & <int> & <int> & <int> & ⋯ & <int> & <dbl> & <int> & <dbl> & <int> & <dbl> & <int> & <dbl> & <int> & <dbl>\\\\\n",
       "\\hline\n",
       "\t1 & 1 & 72 & 1 & 0 & 0 & 0 & 0 & 0 & 0 & 0 & ⋯ & 1 &  30.0 & 1 & 0.6 & 1 & 15 & 1 & 1.48 & 1 & 10\\\\\n",
       "\t2 & 1 & 15 & 0 & 1 & 0 & 0 & 0 & 0 & 0 & 0 & ⋯ & 1 & 145.0 & 1 & 1.7 & 1 & 19 & 1 & 1.13 & 1 & 17\\\\\n",
       "\t3 & 1 & 24 & 1 & 0 & 0 & 0 & 0 & 0 & 0 & 0 & ⋯ & 1 &   0.0 & 1 & 0.2 & 1 &  4 & 1 & 1.00 & 1 &  0\\\\\n",
       "\t4 & 1 & 24 & 0 & 0 & 0 & 0 & 0 & 0 & 0 & 0 & ⋯ & 1 & 430.0 & 1 & 0.4 & 1 &  6 & 1 & 1.04 & 1 &  6\\\\\n",
       "\t5 & 1 & 77 & 1 & 0 & 0 & 0 & 0 & 0 & 0 & 0 & ⋯ & 1 &   7.3 & 1 & 1.2 & 1 & 57 & 1 & 1.28 & 1 & 44\\\\\n",
       "\t6 & 1 & 85 & 0 & 0 & 0 & 0 & 0 & 1 & 0 & 0 & ⋯ & 1 & 138.0 & 1 & 1.1 & 1 & 27 & 1 & 1.19 & 1 & 23\\\\\n",
       "\\end{tabular}\n"
      ],
      "text/markdown": [
       "\n",
       "A data.frame: 6 × 24\n",
       "\n",
       "| <!--/--> | Class &lt;fct&gt; | Age &lt;int&gt; | Sex &lt;int&gt; | On_Thyroxine &lt;int&gt; | Query_on_Thyroxine &lt;int&gt; | On_Antithyroid_Medication &lt;int&gt; | Thyroid_Surgery &lt;int&gt; | Query_Hypothyroid &lt;int&gt; | Query_Hyperthyroid &lt;int&gt; | Pregnant &lt;int&gt; | ⋯ ⋯ | TSH_measured &lt;int&gt; | TSH &lt;dbl&gt; | T3_measured &lt;int&gt; | T3 &lt;dbl&gt; | TT4_measured &lt;int&gt; | TT4 &lt;dbl&gt; | T4U_measured &lt;int&gt; | T4U &lt;dbl&gt; | FTI_measured &lt;int&gt; | FTI &lt;dbl&gt; |\n",
       "|---|---|---|---|---|---|---|---|---|---|---|---|---|---|---|---|---|---|---|---|---|---|\n",
       "| 1 | 1 | 72 | 1 | 0 | 0 | 0 | 0 | 0 | 0 | 0 | ⋯ | 1 |  30.0 | 1 | 0.6 | 1 | 15 | 1 | 1.48 | 1 | 10 |\n",
       "| 2 | 1 | 15 | 0 | 1 | 0 | 0 | 0 | 0 | 0 | 0 | ⋯ | 1 | 145.0 | 1 | 1.7 | 1 | 19 | 1 | 1.13 | 1 | 17 |\n",
       "| 3 | 1 | 24 | 1 | 0 | 0 | 0 | 0 | 0 | 0 | 0 | ⋯ | 1 |   0.0 | 1 | 0.2 | 1 |  4 | 1 | 1.00 | 1 |  0 |\n",
       "| 4 | 1 | 24 | 0 | 0 | 0 | 0 | 0 | 0 | 0 | 0 | ⋯ | 1 | 430.0 | 1 | 0.4 | 1 |  6 | 1 | 1.04 | 1 |  6 |\n",
       "| 5 | 1 | 77 | 1 | 0 | 0 | 0 | 0 | 0 | 0 | 0 | ⋯ | 1 |   7.3 | 1 | 1.2 | 1 | 57 | 1 | 1.28 | 1 | 44 |\n",
       "| 6 | 1 | 85 | 0 | 0 | 0 | 0 | 0 | 1 | 0 | 0 | ⋯ | 1 | 138.0 | 1 | 1.1 | 1 | 27 | 1 | 1.19 | 1 | 23 |\n",
       "\n"
      ],
      "text/plain": [
       "  Class Age Sex On_Thyroxine Query_on_Thyroxine On_Antithyroid_Medication\n",
       "1 1     72  1   0            0                  0                        \n",
       "2 1     15  0   1            0                  0                        \n",
       "3 1     24  1   0            0                  0                        \n",
       "4 1     24  0   0            0                  0                        \n",
       "5 1     77  1   0            0                  0                        \n",
       "6 1     85  0   0            0                  0                        \n",
       "  Thyroid_Surgery Query_Hypothyroid Query_Hyperthyroid Pregnant ⋯ TSH_measured\n",
       "1 0               0                 0                  0        ⋯ 1           \n",
       "2 0               0                 0                  0        ⋯ 1           \n",
       "3 0               0                 0                  0        ⋯ 1           \n",
       "4 0               0                 0                  0        ⋯ 1           \n",
       "5 0               0                 0                  0        ⋯ 1           \n",
       "6 0               1                 0                  0        ⋯ 1           \n",
       "  TSH   T3_measured T3  TT4_measured TT4 T4U_measured T4U  FTI_measured FTI\n",
       "1  30.0 1           0.6 1            15  1            1.48 1            10 \n",
       "2 145.0 1           1.7 1            19  1            1.13 1            17 \n",
       "3   0.0 1           0.2 1             4  1            1.00 1             0 \n",
       "4 430.0 1           0.4 1             6  1            1.04 1             6 \n",
       "5   7.3 1           1.2 1            57  1            1.28 1            44 \n",
       "6 138.0 1           1.1 1            27  1            1.19 1            23 "
      ]
     },
     "metadata": {},
     "output_type": "display_data"
    }
   ],
   "source": [
    "newdata<-data\n",
    "\n",
    "\n",
    "newdata[1]<-lapply(newdata[1], gsub, pattern = \"negative\", replacement = 0, fixed = TRUE)\n",
    "newdata[1]<-lapply(newdata[1], gsub, pattern = \"hypothyroid\", replacement = 1, fixed = TRUE)\n",
    "newdata$Class<-as.factor(newdata$Class)\n",
    "\n",
    "head(newdata)"
   ]
  },
  {
   "cell_type": "markdown",
   "metadata": {},
   "source": [
    "Creating function for C_k criterion"
   ]
  },
  {
   "cell_type": "code",
   "execution_count": 5,
   "metadata": {
    "vscode": {
     "languageId": "r"
    }
   },
   "outputs": [
    {
     "data": {
      "image/png": "[encoded data removed]",
      "text/plain": [
       "plot without title"
      ]
     },
     "metadata": {
      "image/png": {
       "height": 420,
       "width": 420
      },
      "text/plain": {
       "height": 420,
       "width": 420
      }
     },
     "output_type": "display_data"
    },
    {
     "data": {
      "image/png": "[encoded data removed]",
      "text/plain": [
       "plot without title"
      ]
     },
     "metadata": {
      "image/png": {
       "height": 420,
       "width": 420
      },
      "text/plain": {
       "height": 420,
       "width": 420
      }
     },
     "output_type": "display_data"
    }
   ],
   "source": [
    "leaps.ck <- function (X, Y, nbest =3) \n",
    "  \n",
    "  # call leaps using C_k criterion, make plot of C_k versus k,\n",
    "  # and return leaps output in a matrix for nicer output.\n",
    "  # The matrix has two columns: for k and for C_k. The row labels\n",
    "  # contain the regression labels.\n",
    "{\n",
    "  \n",
    "  leaps.out <- leaps(X,Y,method=\"Cp\",nbest=nbest)\n",
    "  \n",
    "  leaps.mat <- cbind(leaps.out$size,round(leaps.out$Cp,digits=4))\n",
    "  \n",
    "  colnames(leaps.mat) <- c(\"k\",\"C_k\")\n",
    "  \n",
    "  leaps.mat <- cbind(leaps.out$which, leaps.mat)\n",
    "  \n",
    "  return(leaps.mat)\n",
    "  \n",
    "} \n",
    "\n",
    "\n",
    "### use \"swiss\" data ###\n",
    "\n",
    "X <- as.matrix(newdata[,2:24])\n",
    "Y <- as.matrix(newdata[,1])\n",
    "\n",
    "#leaps.ck(X,Y)\n",
    "\n",
    "result.leaps <- regsubsets(Class~.,data=newdata,nbest=10)\n",
    "plot(result.leaps, scale=\"adjr2\")\n",
    "plot(result.leaps, scale=\"bic\")"
   ]
  },
  {
   "cell_type": "code",
   "execution_count": 6,
   "metadata": {
    "vscode": {
     "languageId": "r"
    }
   },
   "outputs": [],
   "source": [
    "posdata<-newdata%>%filter(Class==1) #151\n",
    "negdata<-newdata%>%filter(Class==0) #3012\n",
    "#50/30/20\n",
    "#76/45/30\n",
    "#1506/904/602\n",
    "\n",
    "set.seed(5)\n",
    "pos_training_index<-sample.int(n=151,size=121,replace=FALSE)\n",
    "neg_training_index<-sample.int(n=3012,size=2410,replace=FALSE)\n",
    "\n",
    "pos_training<-posdata[pos_training_index,]\n",
    "pos_testing<-posdata[-pos_training_index,]\n",
    "\n",
    "neg_training<-negdata[neg_training_index,]\n",
    "neg_testing<-negdata[-neg_training_index,]\n",
    "\n",
    "pos_cv_index<-sample.int(n=121,size=45,replace=FALSE)\n",
    "neg_cv_index<-sample.int(n=2410,size=904,replace=FALSE)\n",
    "\n",
    "pos_cv<-pos_training[pos_cv_index,]\n",
    "pos_training<-pos_training[-pos_cv_index,]\n",
    "\n",
    "neg_cv<-neg_training[neg_cv_index,]\n",
    "neg_training<-neg_training[-neg_cv_index,]\n",
    "\n",
    "training<-rbind(pos_training,neg_training)\n",
    "cv<-rbind(pos_cv,neg_cv)\n",
    "test<-rbind(pos_testing,neg_testing)\n"
   ]
  },
  {
   "cell_type": "markdown",
   "metadata": {},
   "source": [
    "Generalized Linear Model"
   ]
  },
  {
   "cell_type": "code",
   "execution_count": 7,
   "metadata": {
    "vscode": {
     "languageId": "r"
    }
   },
   "outputs": [
    {
     "name": "stderr",
     "output_type": "stream",
     "text": [
      "Warning message:\n",
      "“glm.fit: fitted probabilities numerically 0 or 1 occurred”\n"
     ]
    },
    {
     "data": {
      "text/plain": [
       "Confusion Matrix and Statistics\n",
       "\n",
       "          Reference\n",
       "Prediction   0   1\n",
       "         0 900  18\n",
       "         1   4  27\n",
       "                                          \n",
       "               Accuracy : 0.9768          \n",
       "                 95% CI : (0.9651, 0.9854)\n",
       "    No Information Rate : 0.9526          \n",
       "    P-Value [Acc > NIR] : 8.361e-05       \n",
       "                                          \n",
       "                  Kappa : 0.6989          \n",
       "                                          \n",
       " Mcnemar's Test P-Value : 0.005578        \n",
       "                                          \n",
       "            Sensitivity : 0.9956          \n",
       "            Specificity : 0.6000          \n",
       "         Pos Pred Value : 0.9804          \n",
       "         Neg Pred Value : 0.8710          \n",
       "             Prevalence : 0.9526          \n",
       "         Detection Rate : 0.9484          \n",
       "   Detection Prevalence : 0.9673          \n",
       "      Balanced Accuracy : 0.7978          \n",
       "                                          \n",
       "       'Positive' Class : 0               \n",
       "                                          "
      ]
     },
     "metadata": {},
     "output_type": "display_data"
    }
   ],
   "source": [
    "logreg<-glm(Class ~ TSH+TT4+T4U+FTI, family = \"binomial\", data=training)\n",
    "result.predict <- predict(logreg,as.data.frame(cv))\n",
    "results<-result.predict>0.5\n",
    "results<-lapply(results, gsub, pattern = TRUE, replacement = 1, fixed = TRUE)\n",
    "results<-lapply(results, gsub, pattern = FALSE, replacement = 0, fixed = TRUE)\n",
    "results<-as.factor(as.numeric(results))\n",
    "confusionMatrix(results,cv$Class)"
   ]
  },
  {
   "cell_type": "markdown",
   "metadata": {},
   "source": [
    "Recursive Partioning and Regression Trees"
   ]
  },
  {
   "cell_type": "code",
   "execution_count": 8,
   "metadata": {
    "vscode": {
     "languageId": "r"
    }
   },
   "outputs": [
    {
     "data": {
      "text/plain": [
       "Confusion Matrix and Statistics\n",
       "\n",
       "          Reference\n",
       "Prediction   0   1\n",
       "         0 903   4\n",
       "         1   1  41\n",
       "                                          \n",
       "               Accuracy : 0.9947          \n",
       "                 95% CI : (0.9877, 0.9983)\n",
       "    No Information Rate : 0.9526          \n",
       "    P-Value [Acc > NIR] : 2.059e-14       \n",
       "                                          \n",
       "                  Kappa : 0.9398          \n",
       "                                          \n",
       " Mcnemar's Test P-Value : 0.3711          \n",
       "                                          \n",
       "            Sensitivity : 0.9989          \n",
       "            Specificity : 0.9111          \n",
       "         Pos Pred Value : 0.9956          \n",
       "         Neg Pred Value : 0.9762          \n",
       "             Prevalence : 0.9526          \n",
       "         Detection Rate : 0.9515          \n",
       "   Detection Prevalence : 0.9557          \n",
       "      Balanced Accuracy : 0.9550          \n",
       "                                          \n",
       "       'Positive' Class : 0               \n",
       "                                          "
      ]
     },
     "metadata": {},
     "output_type": "display_data"
    },
    {
     "data": {
      "image/png": "[encoded data removed]",
      "text/plain": [
       "plot without title"
      ]
     },
     "metadata": {
      "image/png": {
       "height": 420,
       "width": 420
      },
      "text/plain": {
       "height": 420,
       "width": 420
      }
     },
     "output_type": "display_data"
    }
   ],
   "source": [
    "result.tree <- rpart(Class~TSH+TT4+T4U+FTI, data=training)\n",
    "plot(result.tree, uniform=TRUE, compress=TRUE,margin=0.3, branch=0.4)\n",
    "text(result.tree, use.n=T)\n",
    "result.predict <- predict(result.tree,as.data.frame(cv))\n",
    "predict.index <- rep(1, nrow(result.predict))\n",
    "predict.index[result.predict[,1] >=0.5] <- 0\n",
    "#results<-result.predict>0.5\n",
    "#results<-lapply(results, gsub, pattern = TRUE, replacement = 1, fixed = TRUE)\n",
    "#results<-lapply(results, gsub, pattern = FALSE, replacement = 0, fixed = TRUE)\n",
    "#results<-as.factor(as.numeric(results))\n",
    "confusionMatrix(as.factor(predict.index),cv$Class)\n"
   ]
  },
  {
   "cell_type": "markdown",
   "metadata": {},
   "source": [
    "Naive Bayes Model"
   ]
  },
  {
   "cell_type": "code",
   "execution_count": 9,
   "metadata": {
    "vscode": {
     "languageId": "r"
    }
   },
   "outputs": [
    {
     "data": {
      "text/plain": [
       "Confusion Matrix and Statistics\n",
       "\n",
       "          Reference\n",
       "Prediction   0   1\n",
       "         0 894  12\n",
       "         1  10  33\n",
       "                                          \n",
       "               Accuracy : 0.9768          \n",
       "                 95% CI : (0.9651, 0.9854)\n",
       "    No Information Rate : 0.9526          \n",
       "    P-Value [Acc > NIR] : 8.361e-05       \n",
       "                                          \n",
       "                  Kappa : 0.7379          \n",
       "                                          \n",
       " Mcnemar's Test P-Value : 0.8312          \n",
       "                                          \n",
       "            Sensitivity : 0.9889          \n",
       "            Specificity : 0.7333          \n",
       "         Pos Pred Value : 0.9868          \n",
       "         Neg Pred Value : 0.7674          \n",
       "             Prevalence : 0.9526          \n",
       "         Detection Rate : 0.9420          \n",
       "   Detection Prevalence : 0.9547          \n",
       "      Balanced Accuracy : 0.8611          \n",
       "                                          \n",
       "       'Positive' Class : 0               \n",
       "                                          "
      ]
     },
     "metadata": {},
     "output_type": "display_data"
    }
   ],
   "source": [
    "nbmodel<-naiveBayes(Class~TSH+TT4+T4U+FTI, data=training)\n",
    "result.predict <- predict(nbmodel,as.data.frame(cv))\n",
    "confusionMatrix(result.predict,cv$Class)"
   ]
  },
  {
   "cell_type": "markdown",
   "metadata": {},
   "source": [
    "Linear Discriminant Analysis"
   ]
  },
  {
   "cell_type": "code",
   "execution_count": 10,
   "metadata": {
    "vscode": {
     "languageId": "r"
    }
   },
   "outputs": [
    {
     "data": {
      "text/plain": [
       "Call:\n",
       "lda(Class ~ T4U + TSH + TT4 + FTI, data = training)\n",
       "\n",
       "Prior probabilities of groups:\n",
       "         0          1 \n",
       "0.95195954 0.04804046 \n",
       "\n",
       "Group means:\n",
       "        T4U       TSH       TT4       FTI\n",
       "0 0.9873373  2.302324 113.64097 118.06175\n",
       "1 1.0734211 66.163816  33.87237  31.79211\n",
       "\n",
       "Coefficients of linear discriminants:\n",
       "             LD1\n",
       "T4U  2.077368054\n",
       "TSH  0.041081807\n",
       "TT4 -0.018027286\n",
       "FTI  0.004491198"
      ]
     },
     "metadata": {},
     "output_type": "display_data"
    },
    {
     "data": {
      "image/png": "[encoded data removed]",
      "text/plain": [
       "plot without title"
      ]
     },
     "metadata": {
      "image/png": {
       "height": 420,
       "width": 420
      },
      "text/plain": {
       "height": 420,
       "width": 420
      }
     },
     "output_type": "display_data"
    }
   ],
   "source": [
    "set.seed(42)\n",
    "fit.lda<-lda(Class ~ T4U + TSH + TT4 + FTI, data=training)\n",
    "fit.lda\n",
    "plot(fit.lda)\n",
    "pred_lda = predict(fit.lda, newdata = cv)\n",
    "# pred_lables <- rep('hypothyroid', nrow(test))\n",
    "\n",
    "# pred_lables[pred_lda>0.5] <- \"hy\"\n",
    "# pred_lables <- as.factor(pred_lables)\n"
   ]
  },
  {
   "cell_type": "code",
   "execution_count": 11,
   "metadata": {
    "vscode": {
     "languageId": "r"
    }
   },
   "outputs": [
    {
     "data": {
      "text/html": [
       "<strong>Accuracy:</strong> 0.968387776606955"
      ],
      "text/latex": [
       "\\textbf{Accuracy:} 0.968387776606955"
      ],
      "text/markdown": [
       "**Accuracy:** 0.968387776606955"
      ],
      "text/plain": [
       " Accuracy \n",
       "0.9683878 "
      ]
     },
     "metadata": {},
     "output_type": "display_data"
    },
    {
     "data": {
      "text/html": [
       "<strong>Specificity:</strong> 0.4"
      ],
      "text/latex": [
       "\\textbf{Specificity:} 0.4"
      ],
      "text/markdown": [
       "**Specificity:** 0.4"
      ],
      "text/plain": [
       "Specificity \n",
       "        0.4 "
      ]
     },
     "metadata": {},
     "output_type": "display_data"
    },
    {
     "data": {
      "text/html": [
       "<strong>Sensitivity:</strong> 0.996681415929204"
      ],
      "text/latex": [
       "\\textbf{Sensitivity:} 0.996681415929204"
      ],
      "text/markdown": [
       "**Sensitivity:** 0.996681415929204"
      ],
      "text/plain": [
       "Sensitivity \n",
       "  0.9966814 "
      ]
     },
     "metadata": {},
     "output_type": "display_data"
    },
    {
     "data": {
      "text/plain": [
       "Confusion Matrix and Statistics\n",
       "\n",
       "          Reference\n",
       "Prediction   0   1\n",
       "         0 901  27\n",
       "         1   3  18\n",
       "                                          \n",
       "               Accuracy : 0.9684          \n",
       "                 95% CI : (0.9552, 0.9786)\n",
       "    No Information Rate : 0.9526          \n",
       "    P-Value [Acc > NIR] : 0.01012         \n",
       "                                          \n",
       "                  Kappa : 0.5313          \n",
       "                                          \n",
       " Mcnemar's Test P-Value : 2.679e-05       \n",
       "                                          \n",
       "            Sensitivity : 0.9967          \n",
       "            Specificity : 0.4000          \n",
       "         Pos Pred Value : 0.9709          \n",
       "         Neg Pred Value : 0.8571          \n",
       "             Prevalence : 0.9526          \n",
       "         Detection Rate : 0.9494          \n",
       "   Detection Prevalence : 0.9779          \n",
       "      Balanced Accuracy : 0.6983          \n",
       "                                          \n",
       "       'Positive' Class : 0               \n",
       "                                          "
      ]
     },
     "metadata": {},
     "output_type": "display_data"
    }
   ],
   "source": [
    "cm_lda <- confusionMatrix(pred_lda$class,cv$Class) \n",
    "cm_lda$overall['Accuracy']\n",
    "cm_lda$byClass['Specificity'] \n",
    "cm_lda$byClass['Sensitivity'] \n",
    "cm_lda"
   ]
  },
  {
   "cell_type": "markdown",
   "metadata": {},
   "source": [
    "Random Forests"
   ]
  },
  {
   "cell_type": "code",
   "execution_count": 12,
   "metadata": {
    "vscode": {
     "languageId": "r"
    }
   },
   "outputs": [
    {
     "name": "stderr",
     "output_type": "stream",
     "text": [
      "randomForest 4.6-14\n",
      "\n",
      "Type rfNews() to see new features/changes/bug fixes.\n",
      "\n",
      "\n",
      "Attaching package: ‘randomForest’\n",
      "\n",
      "\n",
      "The following object is masked from ‘package:dplyr’:\n",
      "\n",
      "    combine\n",
      "\n",
      "\n",
      "The following object is masked from ‘package:ggplot2’:\n",
      "\n",
      "    margin\n",
      "\n",
      "\n"
     ]
    },
    {
     "data": {
      "text/plain": [
       "\n",
       "Call:\n",
       " randomForest(formula = Class ~ T4U + TSH + TT4 + FTI, data = training) \n",
       "               Type of random forest: classification\n",
       "                     Number of trees: 500\n",
       "No. of variables tried at each split: 2\n",
       "\n",
       "        OOB estimate of  error rate: 1.26%\n",
       "Confusion matrix:\n",
       "     0  1 class.error\n",
       "0 1496 10 0.006640106\n",
       "1   10 66 0.131578947"
      ]
     },
     "metadata": {},
     "output_type": "display_data"
    },
    {
     "name": "stdout",
     "output_type": "stream",
     "text": [
      "mtry = 4  OOB error = 1.58% \n",
      "Searching left ...\n",
      "mtry = 2 \tOOB error = 1.71% \n",
      "-0.08 0.05 \n",
      "Searching right ...\n",
      "mtry = 8 \tOOB error = 1.33% \n",
      "0.16 0.05 \n",
      "mtry = 16 \tOOB error = 1.2% \n",
      "0.0952381 0.05 \n",
      "mtry = 23 \tOOB error = 1.14% \n",
      "0.05263158 0.05 \n"
     ]
    },
    {
     "data": {
      "text/html": [
       "<table>\n",
       "<caption>A matrix: 5 × 2 of type dbl</caption>\n",
       "<thead>\n",
       "\t<tr><th></th><th scope=col>mtry</th><th scope=col>OOBError</th></tr>\n",
       "</thead>\n",
       "<tbody>\n",
       "\t<tr><th scope=row>2.OOB</th><td> 2</td><td>0.01706700</td></tr>\n",
       "\t<tr><th scope=row>4.OOB</th><td> 4</td><td>0.01580278</td></tr>\n",
       "\t<tr><th scope=row>8.OOB</th><td> 8</td><td>0.01327434</td></tr>\n",
       "\t<tr><th scope=row>16.OOB</th><td>16</td><td>0.01201011</td></tr>\n",
       "\t<tr><th scope=row>23.OOB</th><td>23</td><td>0.01137800</td></tr>\n",
       "</tbody>\n",
       "</table>\n"
      ],
      "text/latex": [
       "A matrix: 5 × 2 of type dbl\n",
       "\\begin{tabular}{r|ll}\n",
       "  & mtry & OOBError\\\\\n",
       "\\hline\n",
       "\t2.OOB &  2 & 0.01706700\\\\\n",
       "\t4.OOB &  4 & 0.01580278\\\\\n",
       "\t8.OOB &  8 & 0.01327434\\\\\n",
       "\t16.OOB & 16 & 0.01201011\\\\\n",
       "\t23.OOB & 23 & 0.01137800\\\\\n",
       "\\end{tabular}\n"
      ],
      "text/markdown": [
       "\n",
       "A matrix: 5 × 2 of type dbl\n",
       "\n",
       "| <!--/--> | mtry | OOBError |\n",
       "|---|---|---|\n",
       "| 2.OOB |  2 | 0.01706700 |\n",
       "| 4.OOB |  4 | 0.01580278 |\n",
       "| 8.OOB |  8 | 0.01327434 |\n",
       "| 16.OOB | 16 | 0.01201011 |\n",
       "| 23.OOB | 23 | 0.01137800 |\n",
       "\n"
      ],
      "text/plain": [
       "       mtry OOBError  \n",
       "2.OOB   2   0.01706700\n",
       "4.OOB   4   0.01580278\n",
       "8.OOB   8   0.01327434\n",
       "16.OOB 16   0.01201011\n",
       "23.OOB 23   0.01137800"
      ]
     },
     "metadata": {},
     "output_type": "display_data"
    },
    {
     "data": {
      "image/png": "[encoded data removed]",
      "text/plain": [
       "plot without title"
      ]
     },
     "metadata": {
      "image/png": {
       "height": 420,
       "width": 420
      },
      "text/plain": {
       "height": 420,
       "width": 420
      }
     },
     "output_type": "display_data"
    }
   ],
   "source": [
    "library(randomForest)\n",
    "set.seed(42)\n",
    "#OOB is out of bag estimate, predicts the error or the random forests\n",
    "rf <- randomForest(Class ~ T4U + TSH + TT4 + FTI, data= training)\n",
    "rf\n",
    "\n",
    "train_x <- training %>% dplyr::select(-\"Class\")\n",
    "train_y<-training[,'Class']\n",
    "tuneRF(train_x, train_y, ntreeTry = 500)"
   ]
  },
  {
   "cell_type": "code",
   "execution_count": 13,
   "metadata": {
    "vscode": {
     "languageId": "r"
    }
   },
   "outputs": [
    {
     "name": "stderr",
     "output_type": "stream",
     "text": [
      "Warning message in randomForest.default(m, y, ...):\n",
      "“invalid mtry: reset to within valid range”\n"
     ]
    },
    {
     "data": {
      "text/plain": [
       "\n",
       "Call:\n",
       " randomForest(formula = Class ~ T4U + TSH + TT4 + FTI, data = training,      mtry = 23, ntree = 500) \n",
       "               Type of random forest: classification\n",
       "                     Number of trees: 500\n",
       "No. of variables tried at each split: 4\n",
       "\n",
       "        OOB estimate of  error rate: 1.45%\n",
       "Confusion matrix:\n",
       "     0  1 class.error\n",
       "0 1495 11 0.007304117\n",
       "1   12 64 0.157894737"
      ]
     },
     "metadata": {},
     "output_type": "display_data"
    }
   ],
   "source": [
    "fit.rf<- randomForest(Class ~ T4U + TSH + TT4 + FTI, data= training, mtry=23, ntree = 500) \n",
    "fit.rf"
   ]
  },
  {
   "cell_type": "code",
   "execution_count": 14,
   "metadata": {
    "vscode": {
     "languageId": "r"
    }
   },
   "outputs": [
    {
     "data": {
      "text/plain": [
       "Confusion Matrix and Statistics\n",
       "\n",
       "          Reference\n",
       "Prediction   0   1\n",
       "         0 902   5\n",
       "         1   2  40\n",
       "                                         \n",
       "               Accuracy : 0.9926         \n",
       "                 95% CI : (0.9849, 0.997)\n",
       "    No Information Rate : 0.9526         \n",
       "    P-Value [Acc > NIR] : 1.134e-12      \n",
       "                                         \n",
       "                  Kappa : 0.9157         \n",
       "                                         \n",
       " Mcnemar's Test P-Value : 0.4497         \n",
       "                                         \n",
       "            Sensitivity : 0.9978         \n",
       "            Specificity : 0.8889         \n",
       "         Pos Pred Value : 0.9945         \n",
       "         Neg Pred Value : 0.9524         \n",
       "             Prevalence : 0.9526         \n",
       "         Detection Rate : 0.9505         \n",
       "   Detection Prevalence : 0.9557         \n",
       "      Balanced Accuracy : 0.9433         \n",
       "                                         \n",
       "       'Positive' Class : 0              \n",
       "                                         "
      ]
     },
     "metadata": {},
     "output_type": "display_data"
    }
   ],
   "source": [
    "predictions.rf<- predict(fit.rf, newdata=cv, type=\"class\")\n",
    "confusionMatrix(predictions.rf, cv$Class) \n"
   ]
  },
  {
   "cell_type": "code",
   "execution_count": null,
   "metadata": {
    "vscode": {
     "languageId": "r"
    }
   },
   "outputs": [],
   "source": []
  }
 ],
 "metadata": {
  "kernelspec": {
   "display_name": "R",
   "language": "R",
   "name": "ir"
  },
  "language_info": {
   "codemirror_mode": "r",
   "file_extension": ".r",
   "mimetype": "text/x-r-source",
   "name": "R",
   "pygments_lexer": "r",
   "version": "4.1.2"
  }
 },
 "nbformat": 4,
 "nbformat_minor": 4
}
